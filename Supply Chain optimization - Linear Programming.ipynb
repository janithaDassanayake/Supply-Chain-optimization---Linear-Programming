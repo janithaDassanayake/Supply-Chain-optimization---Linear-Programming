{
 "cells": [
  {
   "cell_type": "markdown",
   "metadata": {},
   "source": [
    "# GRG Supply Chain optimization - Linear Programming"
   ]
  },
  {
   "cell_type": "markdown",
   "metadata": {},
   "source": [
    "This Model helps to decide what raw material to order from Current GRG supplier,"
   ]
  },
  {
   "cell_type": "markdown",
   "metadata": {},
   "source": [
    "where to manufacture the products, "
   ]
  },
  {
   "cell_type": "markdown",
   "metadata": {},
   "source": [
    "how to deliver the manufactured products to the customers so that the overall cost is minimized."
   ]
  },
  {
   "cell_type": "markdown",
   "metadata": {},
   "source": [
    "# required data"
   ]
  },
  {
   "cell_type": "markdown",
   "metadata": {},
   "source": [
    "Supplier stock : A table indicating how many units of each raw material each of the suppliers has in stock. -"
   ]
  },
  {
   "cell_type": "markdown",
   "metadata": {},
   "source": [
    "Raw material costs: A table indicating how much each of the suppliers is charging per unit for each of the raw materials."
   ]
  },
  {
   "cell_type": "markdown",
   "metadata": {},
   "source": [
    "Raw material shipping A table indicating the shipping costs per unit of raw material (the units for each material are the same) from each supplier to each factory."
   ]
  },
  {
   "cell_type": "markdown",
   "metadata": {},
   "source": [
    "Product requirements : A table indicating the amount of raw material required to manufacture one unit of each of the products."
   ]
  },
  {
   "cell_type": "markdown",
   "metadata": {},
   "source": [
    "Production capacity A table indicating how many units of each product each of the factories is able to manufacture."
   ]
  },
  {
   "cell_type": "markdown",
   "metadata": {},
   "source": [
    "Production cost A table indicating the cost of manufacturing a unit of each product in each of the factories."
   ]
  },
  {
   "cell_type": "markdown",
   "metadata": {},
   "source": [
    "Customer demand A table indicating the number of units of each product that have been ordered by the customers"
   ]
  },
  {
   "cell_type": "markdown",
   "metadata": {},
   "source": [
    "Shipping costs A table indicating the shipping costs per unit for delivering a product to the customer"
   ]
  },
  {
   "cell_type": "code",
   "execution_count": 3,
   "metadata": {},
   "outputs": [],
   "source": [
    "from ortools.linear_solver import pywraplp\n",
    "import pandas as pd"
   ]
  },
  {
   "cell_type": "code",
   "execution_count": 4,
   "metadata": {},
   "outputs": [],
   "source": [
    "# 1. Loading the input data\n",
    "sup_stock = pd.read_excel(\"C:/Users/JanithaPrathapa/Desktop/GRG- LINEAR_PROGRAMMING/data.xlsx\", sheet_name = \"Supplier stock\", index_col=0)\n",
    "raw_material_cost = pd.read_excel(\"C:/Users/JanithaPrathapa/Desktop/GRG- LINEAR_PROGRAMMING/data.xlsx\", sheet_name = \"Raw material costs\", index_col=0)\n",
    "raw_material_shipping = pd.read_excel(\"C:/Users/JanithaPrathapa/Desktop/GRG- LINEAR_PROGRAMMING/data.xlsx\", sheet_name = \"Raw material shipping\", index_col=0)\n",
    "production_req = pd.read_excel(\"C:/Users/JanithaPrathapa/Desktop/GRG- LINEAR_PROGRAMMING/data.xlsx\", sheet_name = \"Product requirements\", index_col=0)\n",
    "production_capacity = pd.read_excel(\"C:/Users/JanithaPrathapa/Desktop/GRG- LINEAR_PROGRAMMING/data.xlsx\", sheet_name = \"Production capacity\", index_col=0)\n",
    "customer_demand = pd.read_excel(\"C:/Users/JanithaPrathapa/Desktop/GRG- LINEAR_PROGRAMMING/data.xlsx\", sheet_name = \"Customer demand\", index_col=0)\n",
    "production_cost = pd.read_excel(\"C:/Users/JanithaPrathapa/Desktop/GRG- LINEAR_PROGRAMMING/data.xlsx\", sheet_name = \"Production cost\", index_col=0)\n",
    "shipping_costs = pd.read_excel(\"C:/Users/JanithaPrathapa/Desktop/GRG- LINEAR_PROGRAMMING/data.xlsx\", sheet_name = \"Shipping costs\", index_col=0)"
   ]
  },
  {
   "cell_type": "code",
   "execution_count": 5,
   "metadata": {},
   "outputs": [],
   "source": [
    "# Changing NaN values to 0 for easy computation\n",
    "customer_demand = customer_demand.fillna(0)\n",
    "production_req = production_req.fillna(0)\n",
    "sup_stock = sup_stock.fillna(0)\n",
    "production_capacity = production_capacity.fillna(0)\n",
    "raw_material_cost = raw_material_cost.fillna(0)\n",
    "production_cost = production_cost.fillna(0)"
   ]
  },
  {
   "cell_type": "code",
   "execution_count": 6,
   "metadata": {},
   "outputs": [
    {
     "name": "stdout",
     "output_type": "stream",
     "text": [
      "Factories:\n",
      " ['Factory A', 'Factory B', 'Factory C']\n",
      "Materials: \n",
      " ['Material A', 'Material B', 'Material C', 'Material D']\n",
      "Suppliers: \n",
      " ['Supplier A', 'Supplier B', 'Supplier C', 'Supplier D', 'Supplier E']\n",
      "Products: \n",
      " ['Product A', 'Product B', 'Product C', 'Product D']\n",
      "Customers: \n",
      " ['Customer A', 'Customer B', 'Customer C', 'Customer D']\n"
     ]
    }
   ],
   "source": [
    "# Getting list of factories \n",
    "\n",
    "factories = list(raw_material_shipping.columns )\n",
    "print(\"Factories:\\n\",factories)\n",
    "# Getting list of materials\n",
    "materials = list(raw_material_cost.columns)\n",
    "print(\"Materials: \\n\",materials)\n",
    "# Getting list of suppliers\n",
    "suppliers = list(raw_material_cost.index)\n",
    "print(\"Suppliers: \\n\",suppliers)\n",
    "#Getting list of products\n",
    "products = list(production_req.index)\n",
    "print(\"Products: \\n\",products)\n",
    "#Getting list of customers\n",
    "customers = list(customer_demand.columns)\n",
    "print(\"Customers: \\n\",customers)"
   ]
  },
  {
   "cell_type": "code",
   "execution_count": 7,
   "metadata": {},
   "outputs": [],
   "source": [
    "# 2. Creating Decision Variables using OR Tools wrapper of the GLOP_LINEAR_PROGRAMMING solver.\n",
    "solver = pywraplp.Solver('LPWrapper', pywraplp.Solver.GLOP_LINEAR_PROGRAMMING)\n",
    "orders = {}\n",
    "for factory in factories:\n",
    "    for material in materials:\n",
    "        for supplier in suppliers:\n",
    "            orders[(factory, material, supplier)] = solver.NumVar(0, solver.infinity(), \n",
    "                                          factory+\"_\"+material+\"_\"+supplier)\n",
    "            \n",
    "production_volume = {}\n",
    "for factory in factories:\n",
    "    for product in products: \n",
    "        production_volume[(factory, product)] = solver.NumVar(0, solver.infinity()  , factory+\"_\"+product)\n",
    "        \n",
    "delivery = {}\n",
    "for factory in factories: \n",
    "    for customer in customers:\n",
    "        for product in products: \n",
    "            delivery[(factory, customer, product)] = solver.NumVar(0, solver.infinity(), factory+\"_\"+customer+\"_\"+product)\n",
    "\n"
   ]
  },
  {
   "cell_type": "code",
   "execution_count": 8,
   "metadata": {},
   "outputs": [],
   "source": [
    "# C. Define and implement the constraints that ensure factories produce more \n",
    "#    than they ship to the customers\n",
    "\n",
    "for product in products: \n",
    "    for factory in factories:\n",
    "        c = solver.Constraint(0, solver.infinity())\n",
    "        c.SetCoefficient(production_volume[(factory, product)] , 1)\n",
    "        for customer in customers:             \n",
    "            c.SetCoefficient(delivery[(factory, customer, product)], -1)\n"
   ]
  },
  {
   "cell_type": "code",
   "execution_count": 9,
   "metadata": {},
   "outputs": [],
   "source": [
    "## D. Define and implement the constraints that ensure that customer demand is met\n",
    "\n",
    "for customer in customers: \n",
    "    for product in products:\n",
    "        \n",
    "        c = solver.Constraint(int(customer_demand.loc[product][customer]),int(customer_demand.loc[product][customer]))\n",
    "        for factory in factories: \n",
    "            c.SetCoefficient(delivery[(factory,customer,product)], 1)"
   ]
  },
  {
   "cell_type": "code",
   "execution_count": 21,
   "metadata": {},
   "outputs": [],
   "source": [
    "## E. Define and implement the constraints that ensure that suppliers have all ordered items in stock     \n",
    "\n",
    "\n",
    "for supplier in suppliers: \n",
    "    for material in materials: \n",
    "        c = solver.Constraint(0, int(sup_stock.loc[supplier][material]))\n",
    "        for factory in factories: \n",
    "            c.SetCoefficient(orders[(factory, material, supplier)],1)"
   ]
  },
  {
   "cell_type": "code",
   "execution_count": 11,
   "metadata": {},
   "outputs": [],
   "source": [
    "# F. Define and implement the constraints that ensure that factories order \n",
    "#    enough material to be able to manufacture all items\n",
    "\n",
    "\n",
    "for factory in factories:\n",
    "    for material in materials:\n",
    "        c = solver.Constraint(0,solver.infinity())\n",
    "        for supplier in suppliers:\n",
    "            c.SetCoefficient(orders[(factory, material, supplier)],1)\n",
    "            for product in products:\n",
    "                c.SetCoefficient(production_volume[(factory, product)], - production_req.loc[product][material])"
   ]
  },
  {
   "cell_type": "code",
   "execution_count": 12,
   "metadata": {},
   "outputs": [],
   "source": [
    "### G.Define and implement the constraints that ensure that the manufacturing capacities are not exceeded\n",
    "##\n",
    "                                \n",
    "for factory in factories: \n",
    "    for product in products: \n",
    "        c = solver.Constraint(0, int(production_capacity.loc[product][factory]))  \n",
    "        c.SetCoefficient(production_volume[(factory, product)],1)"
   ]
  },
  {
   "cell_type": "code",
   "execution_count": 13,
   "metadata": {},
   "outputs": [],
   "source": [
    "###   Define and implement the objective function.\n",
    "cost = solver.Objective()\n",
    "# Material Costs  + shipping costs \n",
    "for factory in factories: \n",
    "    for supplier in suppliers:\n",
    "        for material in materials:\n",
    "            cost.SetCoefficient(orders[(factory, material, supplier)] , \n",
    "                                       raw_material_cost.loc[supplier][material] + raw_material_shipping.loc[supplier][factory])\n",
    "            "
   ]
  },
  {
   "cell_type": "code",
   "execution_count": 14,
   "metadata": {},
   "outputs": [],
   "source": [
    "# production cost of each factory \n",
    "for factory in factories: \n",
    "    for product in products: \n",
    "        cost.SetCoefficient(production_volume[(factory, product)], int(production_cost.loc[product][factory]))"
   ]
  },
  {
   "cell_type": "code",
   "execution_count": 15,
   "metadata": {},
   "outputs": [],
   "source": [
    "# shipping cost to customers \n",
    "for factory in factories: \n",
    "    for customer in customers:\n",
    "        for product in products: \n",
    "            cost.SetCoefficient(delivery[(factory, customer, product)], int(shipping_costs.loc[factory][customer]))"
   ]
  },
  {
   "cell_type": "code",
   "execution_count": 16,
   "metadata": {},
   "outputs": [
    {
     "name": "stdout",
     "output_type": "stream",
     "text": [
      "Optimal Solution Found\n",
      "Optimal Overall Cost:  49315.0\n",
      "\n",
      "Supplier Bill and order quantity\n",
      "****************************\n",
      "Factory A :\n",
      "   Supplier A :\n",
      "\t Material A : 20.0\n",
      "\t Material B : 19.999999999999996\n",
      "\t Material C : 0.0\n",
      "\t Material D : 0.0\n",
      "   Supplier A  Bill:  2800.0\n",
      "   Supplier B :\n",
      "\t Material A : 19.000000000000004\n",
      "\t Material B : 4.000000000000001\n",
      "\t Material C : 0.0\n",
      "\t Material D : 0.0\n",
      "   Supplier B  Bill:  2155.0000000000005\n",
      "   Supplier C :\n",
      "\t Material A : 0.0\n",
      "\t Material B : 0.0\n",
      "\t Material C : 0.0\n",
      "\t Material D : 0.0\n",
      "   Supplier C  Bill:  0.0\n",
      "   Supplier D :\n",
      "\t Material A : 0.0\n",
      "\t Material B : 0.0\n",
      "\t Material C : 14.000000000000002\n",
      "\t Material D : 50.0\n",
      "   Supplier D  Bill:  6440.0\n",
      "   Supplier E :\n",
      "\t Material A : 0.0\n",
      "\t Material B : 0.0\n",
      "\t Material C : 0.0\n",
      "\t Material D : 0.0\n",
      "   Supplier E  Bill:  0.0\n",
      "Factory B :\n",
      "   Supplier A :\n",
      "\t Material A : 0.0\n",
      "\t Material B : 0.0\n",
      "\t Material C : 0.0\n",
      "\t Material D : 0.0\n",
      "   Supplier A  Bill:  0.0\n",
      "   Supplier B :\n",
      "\t Material A : 6.000000000000001\n",
      "\t Material B : 34.0\n",
      "\t Material C : 0.0\n",
      "\t Material D : 0.0\n",
      "   Supplier B  Bill:  3500.0\n",
      "   Supplier C :\n",
      "\t Material A : 0.0\n",
      "\t Material B : 0.0\n",
      "\t Material C : 31.999999999999996\n",
      "\t Material D : 4.999999999999996\n",
      "   Supplier C  Bill:  8549.999999999998\n",
      "   Supplier D :\n",
      "\t Material A : 0.0\n",
      "\t Material B : 0.0\n",
      "\t Material C : 5.999999999999997\n",
      "\t Material D : 0.0\n",
      "   Supplier D  Bill:  1379.9999999999995\n",
      "   Supplier E :\n",
      "\t Material A : 4.000000000000001\n",
      "\t Material B : 0.0\n",
      "\t Material C : 0.0\n",
      "\t Material D : 0.0\n",
      "   Supplier E  Bill:  260.00000000000006\n",
      "Factory C :\n",
      "   Supplier A :\n",
      "\t Material A : 0.0\n",
      "\t Material B : 0.0\n",
      "\t Material C : 0.0\n",
      "\t Material D : 0.0\n",
      "   Supplier A  Bill:  0.0\n",
      "   Supplier B :\n",
      "\t Material A : 0.0\n",
      "\t Material B : 6.000000000000003\n",
      "\t Material C : 0.0\n",
      "\t Material D : 0.0\n",
      "   Supplier B  Bill:  1590.0000000000007\n",
      "   Supplier C :\n",
      "\t Material A : 0.0\n",
      "\t Material B : 9.999999999999998\n",
      "\t Material C : 20.000000000000004\n",
      "\t Material D : 34.99999999999999\n",
      "   Supplier C  Bill:  12450.0\n",
      "   Supplier D :\n",
      "\t Material A : 0.0\n",
      "\t Material B : 0.0\n",
      "\t Material C : 0.0\n",
      "\t Material D : 0.0\n",
      "   Supplier D  Bill:  0.0\n",
      "   Supplier E :\n",
      "\t Material A : 25.000000000000007\n",
      "\t Material B : 0.0\n",
      "\t Material C : 0.0\n",
      "\t Material D : 40.0\n",
      "   Supplier E  Bill:  7325.0\n"
     ]
    }
   ],
   "source": [
    "# I. Solve the linear program and determine the optimal overall cost\n",
    "            \n",
    "cost.SetMinimization()\n",
    "status = solver.Solve()\n",
    "\n",
    "if status == solver.OPTIMAL:\n",
    "    print(\"Optimal Solution Found\")\n",
    "print(\"Optimal Overall Cost: \", solver.Objective().Value())\n",
    "\n",
    "# J. and K  Supplier Bill\n",
    "print(\"\\nSupplier Bill and order quantity\")\n",
    "print(\"****************************\")\n",
    "for factory in factories:\n",
    "    print(factory,\":\")\n",
    "    \n",
    "    for supplier in suppliers:\n",
    "        factory_cost = 0\n",
    "        print(\"  \",supplier,\":\")\n",
    "        for material in materials:\n",
    "            print(\"\\t\",material,\":\", orders[(factory, material, supplier)].solution_value())\n",
    "            \n",
    "            factory_cost += orders[(factory, material, supplier)].solution_value() * raw_material_cost.loc[supplier][material]\n",
    "            factory_cost += orders[(factory, material, supplier)].solution_value() * float(raw_material_shipping.loc[supplier][factory])\n",
    "        print(\"  \",supplier,\" Bill: \", factory_cost)"
   ]
  },
  {
   "cell_type": "code",
   "execution_count": 17,
   "metadata": {},
   "outputs": [
    {
     "name": "stdout",
     "output_type": "stream",
     "text": [
      "Production Volume:\n",
      "****************************\n",
      "Factory A :\n",
      "   Product A :  6.0\n",
      "   Product B :  1.000000000000001\n",
      "   Product D :  3.0\n",
      "   Manufacturing cost:  1010.0000000000001\n",
      "Factory B :\n",
      "   Product A :  2.0\n",
      "   Product B :  0.999999999999999\n",
      "   Product C :  4.0\n",
      "   Manufacturing cost:  429.9999999999999\n",
      "Factory C :\n",
      "   Product A :  2.000000000000001\n",
      "   Product D :  5.0\n",
      "   Manufacturing cost:  425.0000000000001\n"
     ]
    }
   ],
   "source": [
    "# L Manufacturing Cost\n",
    "print(\"Production Volume:\")\n",
    "print(\"****************************\")\n",
    "\n",
    "for factory in factories:\n",
    "    print(factory,\":\")\n",
    "    production_cost_total = 0\n",
    "    for product in products:\n",
    "        if production_volume[(factory, product)].solution_value() >0:\n",
    "            print(\"  \",product,\": \",production_volume[(factory, product)].solution_value())\n",
    "            production_cost_total += production_volume[(factory, product)].solution_value() * production_cost.loc[product][factory]\n",
    "    print(\"   Manufacturing cost: \", production_cost_total)\n"
   ]
  },
  {
   "cell_type": "code",
   "execution_count": 18,
   "metadata": {},
   "outputs": [
    {
     "name": "stdout",
     "output_type": "stream",
     "text": [
      "\n",
      "Shipping to Customer:\n",
      "****************************\n",
      "Customer A\n",
      "   Product A\n",
      "\t Factory A :  4.999999999999999\n",
      "\t Factory B :  0.0\n",
      "\t Factory C :  2.000000000000001\n",
      "   Product B\n",
      "\t Factory A :  0.0\n",
      "\t Factory B :  0.0\n",
      "\t Factory C :  0.0\n",
      "   Product C\n",
      "\t Factory A :  0.0\n",
      "\t Factory B :  0.0\n",
      "\t Factory C :  0.0\n",
      "   Product D\n",
      "\t Factory A :  0.0\n",
      "\t Factory B :  0.0\n",
      "\t Factory C :  1.0\n",
      "   Shipping Cost:  279.99999999999994\n",
      "Customer B\n",
      "   Product A\n",
      "\t Factory A :  1.0\n",
      "\t Factory B :  2.0\n",
      "\t Factory C :  0.0\n",
      "   Product B\n",
      "\t Factory A :  0.0\n",
      "\t Factory B :  0.0\n",
      "\t Factory C :  0.0\n",
      "   Product C\n",
      "\t Factory A :  0.0\n",
      "\t Factory B :  0.0\n",
      "\t Factory C :  0.0\n",
      "   Product D\n",
      "\t Factory A :  0.0\n",
      "\t Factory B :  0.0\n",
      "\t Factory C :  0.0\n",
      "   Shipping Cost:  110.0\n",
      "Customer C\n",
      "   Product A\n",
      "\t Factory A :  0.0\n",
      "\t Factory B :  0.0\n",
      "\t Factory C :  0.0\n",
      "   Product B\n",
      "\t Factory A :  1.000000000000001\n",
      "\t Factory B :  0.9999999999999989\n",
      "\t Factory C :  0.0\n",
      "   Product C\n",
      "\t Factory A :  0.0\n",
      "\t Factory B :  0.0\n",
      "\t Factory C :  0.0\n",
      "   Product D\n",
      "\t Factory A :  0.0\n",
      "\t Factory B :  0.0\n",
      "\t Factory C :  3.0\n",
      "   Shipping Cost:  370.0\n",
      "Customer D\n",
      "   Product A\n",
      "\t Factory A :  0.0\n",
      "\t Factory B :  0.0\n",
      "\t Factory C :  0.0\n",
      "   Product B\n",
      "\t Factory A :  0.0\n",
      "\t Factory B :  0.0\n",
      "\t Factory C :  0.0\n",
      "   Product C\n",
      "\t Factory A :  0.0\n",
      "\t Factory B :  4.0\n",
      "\t Factory C :  0.0\n",
      "   Product D\n",
      "\t Factory A :  3.0\n",
      "\t Factory B :  0.0\n",
      "\t Factory C :  1.0\n",
      "   Shipping Cost:  240.0\n"
     ]
    }
   ],
   "source": [
    "# M Shipping Cost\n",
    "print(\"\\nShipping to Customer:\") \n",
    "print(\"****************************\")\n",
    "\n",
    "for customer in customers:   \n",
    "    shipping_cost = 0\n",
    "    print(customer)\n",
    "    for product in products:\n",
    "        print(\"  \", product)\n",
    "        for factory in factories: \n",
    "            print(\"\\t\",factory,\": \",delivery[(factory, customer, product)].solution_value())\n",
    "            shipping_cost += delivery[(factory, customer, product)].solution_value() * shipping_costs.loc[factory][customer]\n",
    "    print(\"   Shipping Cost: \", shipping_cost)\n",
    "\n"
   ]
  },
  {
   "cell_type": "code",
   "execution_count": 19,
   "metadata": {},
   "outputs": [
    {
     "name": "stdout",
     "output_type": "stream",
     "text": [
      "\n",
      "Material Bifurcation and Cost per unit\n",
      "****************************\n",
      "Customer A\n",
      "   Product A\n",
      "\t Factory A : \n",
      "\t   Material A :  24.999999999999996\n",
      "\t   Material B :  14.999999999999996\n",
      "\t   Material C :  0.0\n",
      "\t   Material D :  0.0\n",
      "\t Factory C : \n",
      "\t   Material A :  10.000000000000004\n",
      "\t   Material B :  6.000000000000003\n",
      "\t   Material C :  0.0\n",
      "\t   Material D :  0.0\n",
      "\t cost per unit :  910.9752747252749\n",
      "   Product D\n",
      "\t Factory C : \n",
      "\t   Material A :  3.0\n",
      "\t   Material B :  2.0\n",
      "\t   Material C :  4.0\n",
      "\t   Material D :  15.0\n",
      "\t cost per unit :  3913.75\n",
      "Customer B\n",
      "   Product A\n",
      "\t Factory A : \n",
      "\t   Material A :  5.0\n",
      "\t   Material B :  3.0\n",
      "\t   Material C :  0.0\n",
      "\t   Material D :  0.0\n",
      "\t Factory B : \n",
      "\t   Material A :  10.0\n",
      "\t   Material B :  6.0\n",
      "\t   Material C :  0.0\n",
      "\t   Material D :  0.0\n",
      "\t cost per unit :  745.7051282051283\n",
      "Customer C\n",
      "   Product B\n",
      "\t Factory A : \n",
      "\t   Material A :  0.0\n",
      "\t   Material B :  0.0\n",
      "\t   Material C :  2.000000000000002\n",
      "\t   Material D :  5.000000000000005\n",
      "\t Factory B : \n",
      "\t   Material A :  0.0\n",
      "\t   Material B :  0.0\n",
      "\t   Material C :  1.9999999999999978\n",
      "\t   Material D :  4.999999999999995\n",
      "\t cost per unit :  1026.8421052631577\n",
      "   Product D\n",
      "\t Factory C : \n",
      "\t   Material A :  9.0\n",
      "\t   Material B :  6.0\n",
      "\t   Material C :  12.0\n",
      "\t   Material D :  45.0\n",
      "\t cost per unit :  4003.75\n",
      "Customer D\n",
      "   Product C\n",
      "\t Factory B : \n",
      "\t   Material A :  0.0\n",
      "\t   Material B :  28.0\n",
      "\t   Material C :  36.0\n",
      "\t   Material D :  0.0\n",
      "\t cost per unit :  2921.578947368421\n",
      "   Product D\n",
      "\t Factory A : \n",
      "\t   Material A :  9.0\n",
      "\t   Material B :  6.0\n",
      "\t   Material C :  12.0\n",
      "\t   Material D :  45.0\n",
      "\t Factory C : \n",
      "\t   Material A :  3.0\n",
      "\t   Material B :  2.0\n",
      "\t   Material C :  4.0\n",
      "\t   Material D :  15.0\n",
      "\t cost per unit :  2759.014423076923\n"
     ]
    }
   ],
   "source": [
    "\n",
    "#  Sub Task N   \n",
    "print(\"\\nMaterial Bifurcation and Cost per unit\")\n",
    "print(\"****************************\")\n",
    "#\n",
    "\n",
    "for customer in customers:\n",
    "    print(customer)\n",
    "    for product in products:\n",
    "        \n",
    "        unit_cost_per_product = 0\n",
    "        if int(customer_demand.loc[product][customer]) >0:\n",
    "            print(\"  \", product)\n",
    "            for factory in factories:\n",
    "                \n",
    "                if delivery[(factory, customer, product)].solution_value() >0:\n",
    "                    print(\"\\t\", factory, \": \")\n",
    "                    # Calculating the Shipping cost from factory to customer based on number of products\n",
    "                    shipping_cost = delivery[(factory, customer, product)].solution_value() * shipping_costs.loc[factory][customer]\n",
    "                    # Calculating the manufacturing cost \n",
    "                    man_cost = delivery[(factory, customer, product)].solution_value() * production_cost.loc[product][factory]\n",
    "                    unit_cost_per_product += shipping_cost\n",
    "                    unit_cost_per_product += man_cost\n",
    "                    material_cost_to_customer = 0\n",
    "                    for material in materials:\n",
    "                        material_units = 0\n",
    "                        material_units += delivery[(factory, customer, product)].solution_value() * production_req.loc[product][material]\n",
    "                        \n",
    "                        print(\"\\t  \",material,\": \", material_units)  \n",
    "                        #raw material cost\n",
    "                        material_cost = 0\n",
    "                        #raw material cost\n",
    "                        rshipping_cost = 0 \n",
    "                        material_count = 0\n",
    "                        for supplier in suppliers:\n",
    "                            material_cost +=  orders[(factory, material, supplier)].solution_value() * raw_material_cost.loc[supplier][material]\n",
    "                            rshipping_cost += orders[(factory, material, supplier)].solution_value() * raw_material_shipping.loc[supplier][factory]\n",
    "                            material_count += orders[(factory, material, supplier)].solution_value()\n",
    "                        material_cost_to_customer = ((material_cost + rshipping_cost)/material_count) * material_units\n",
    "                        unit_cost_per_product += material_cost_to_customer\n",
    "            print(\"\\t cost per unit : \", unit_cost_per_product/int(customer_demand.loc[product][customer]))"
   ]
  },
  {
   "cell_type": "code",
   "execution_count": null,
   "metadata": {},
   "outputs": [],
   "source": []
  }
 ],
 "metadata": {
  "kernelspec": {
   "display_name": "Python 3",
   "language": "python",
   "name": "python3"
  },
  "language_info": {
   "codemirror_mode": {
    "name": "ipython",
    "version": 3
   },
   "file_extension": ".py",
   "mimetype": "text/x-python",
   "name": "python",
   "nbconvert_exporter": "python",
   "pygments_lexer": "ipython3",
   "version": "3.8.8"
  }
 },
 "nbformat": 4,
 "nbformat_minor": 4
}
